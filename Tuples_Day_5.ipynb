{
  "nbformat": 4,
  "nbformat_minor": 0,
  "metadata": {
    "colab": {
      "provenance": [],
      "authorship_tag": "ABX9TyOYlIVsP+fuNadF7hkY/pn/",
      "include_colab_link": true
    },
    "kernelspec": {
      "name": "python3",
      "display_name": "Python 3"
    },
    "language_info": {
      "name": "python"
    }
  },
  "cells": [
    {
      "cell_type": "markdown",
      "metadata": {
        "id": "view-in-github",
        "colab_type": "text"
      },
      "source": [
        "<a href=\"https://colab.research.google.com/github/nvnrai8/trinity.github.io/blob/main/Tuples_Day_5.ipynb\" target=\"_parent\"><img src=\"https://colab.research.google.com/assets/colab-badge.svg\" alt=\"Open In Colab\"/></a>"
      ]
    },
    {
      "cell_type": "code",
      "execution_count": 3,
      "metadata": {
        "id": "uhZejoIt0xSL",
        "colab": {
          "base_uri": "https://localhost:8080/"
        },
        "outputId": "368e28a2-0421-4e3d-f24b-d8151a262110"
      },
      "outputs": [
        {
          "output_type": "execute_result",
          "data": {
            "text/plain": [
              "(1, 2, 3, 'apple', 'banana')"
            ]
          },
          "metadata": {},
          "execution_count": 3
        }
      ],
      "source": [
        "my_tuple=(1,2,3,'apple','banana')\n",
        "my_tuple"
      ]
    },
    {
      "cell_type": "code",
      "source": [
        "# Allow duplicates\n",
        "# Since tuples are indexed, they can have items with the same value:"
      ],
      "metadata": {
        "id": "y6VUVzGM5sxF"
      },
      "execution_count": null,
      "outputs": []
    },
    {
      "cell_type": "code",
      "source": [
        "my_tuple=(1,2,3,'apple','banana','apple','banana')\n",
        "my_tuple"
      ],
      "metadata": {
        "colab": {
          "base_uri": "https://localhost:8080/"
        },
        "id": "PvEAGyMt553n",
        "outputId": "de2162dd-c127-43de-e62d-bab2597412dd"
      },
      "execution_count": 6,
      "outputs": [
        {
          "output_type": "execute_result",
          "data": {
            "text/plain": [
              "(1, 2, 3, 'apple', 'banana', 'apple', 'banana')"
            ]
          },
          "metadata": {},
          "execution_count": 6
        }
      ]
    },
    {
      "cell_type": "code",
      "source": [
        "# Tuple Length and type:\n",
        "print(len(my_tuple))\n",
        "print(type(my_tuple))"
      ],
      "metadata": {
        "colab": {
          "base_uri": "https://localhost:8080/"
        },
        "id": "BCTBAYHi_cR3",
        "outputId": "e4ac8833-ef50-4789-a58a-de20b2d25d62"
      },
      "execution_count": 9,
      "outputs": [
        {
          "output_type": "stream",
          "name": "stdout",
          "text": [
            "7\n",
            "<class 'tuple'>\n"
          ]
        }
      ]
    },
    {
      "cell_type": "code",
      "source": [
        "#  Tuple Items - Data Types\n",
        "\n",
        "# Creating tuples with different type of elements\n",
        "person_info=(\"Alice\",30,\"New York\")\n",
        "grades=(90,85,78,92)\n",
        "is_student=(True, False,True)\n",
        "\n",
        "# Accessing elements of the tuples\n",
        "print(person_info[0])\n",
        "print(grades[2])\n",
        "print(is_student[1])"
      ],
      "metadata": {
        "colab": {
          "base_uri": "https://localhost:8080/"
        },
        "id": "pSWSF78UXora",
        "outputId": "3944890a-7d0c-44a5-fd4f-69c99d5c71da"
      },
      "execution_count": 10,
      "outputs": [
        {
          "output_type": "stream",
          "name": "stdout",
          "text": [
            "Alice\n",
            "78\n",
            "False\n"
          ]
        }
      ]
    }
  ]
}
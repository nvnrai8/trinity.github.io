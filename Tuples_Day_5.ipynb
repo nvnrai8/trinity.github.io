{
  "nbformat": 4,
  "nbformat_minor": 0,
  "metadata": {
    "colab": {
      "provenance": [],
      "authorship_tag": "ABX9TyNf3A33bbfxmB7gw0ONHs/2",
      "include_colab_link": true
    },
    "kernelspec": {
      "name": "python3",
      "display_name": "Python 3"
    },
    "language_info": {
      "name": "python"
    }
  },
  "cells": [
    {
      "cell_type": "markdown",
      "metadata": {
        "id": "view-in-github",
        "colab_type": "text"
      },
      "source": [
        "<a href=\"https://colab.research.google.com/github/nvnrai8/trinity.github.io/blob/main/Tuples_Day_5.ipynb\" target=\"_parent\"><img src=\"https://colab.research.google.com/assets/colab-badge.svg\" alt=\"Open In Colab\"/></a>"
      ]
    },
    {
      "cell_type": "code",
      "execution_count": 3,
      "metadata": {
        "id": "uhZejoIt0xSL",
        "colab": {
          "base_uri": "https://localhost:8080/"
        },
        "outputId": "368e28a2-0421-4e3d-f24b-d8151a262110"
      },
      "outputs": [
        {
          "output_type": "execute_result",
          "data": {
            "text/plain": [
              "(1, 2, 3, 'apple', 'banana')"
            ]
          },
          "metadata": {},
          "execution_count": 3
        }
      ],
      "source": [
        "my_tuple=(1,2,3,'apple','banana')\n",
        "my_tuple"
      ]
    },
    {
      "cell_type": "code",
      "source": [
        "# Allow duplicates\n",
        "# Since tuples are indexed, they can have items with the same value:\n",
        "# here my_tuple is redefined not reassigned"
      ],
      "metadata": {
        "id": "y6VUVzGM5sxF"
      },
      "execution_count": null,
      "outputs": []
    },
    {
      "cell_type": "code",
      "source": [
        "my_tuple=(1,2,3,'apple','banana','apple','banana')\n",
        "my_tuple"
      ],
      "metadata": {
        "colab": {
          "base_uri": "https://localhost:8080/"
        },
        "id": "PvEAGyMt553n",
        "outputId": "de2162dd-c127-43de-e62d-bab2597412dd"
      },
      "execution_count": 6,
      "outputs": [
        {
          "output_type": "execute_result",
          "data": {
            "text/plain": [
              "(1, 2, 3, 'apple', 'banana', 'apple', 'banana')"
            ]
          },
          "metadata": {},
          "execution_count": 6
        }
      ]
    },
    {
      "cell_type": "code",
      "source": [
        "# Tuple Length and type:\n",
        "print(len(my_tuple))\n",
        "print(type(my_tuple))"
      ],
      "metadata": {
        "colab": {
          "base_uri": "https://localhost:8080/"
        },
        "id": "BCTBAYHi_cR3",
        "outputId": "e4ac8833-ef50-4789-a58a-de20b2d25d62"
      },
      "execution_count": 9,
      "outputs": [
        {
          "output_type": "stream",
          "name": "stdout",
          "text": [
            "7\n",
            "<class 'tuple'>\n"
          ]
        }
      ]
    },
    {
      "cell_type": "code",
      "source": [
        "#  Tuple Items - Data Types\n",
        "\n",
        "# Creating tuples with different type of elements\n",
        "person_info=(\"Alice\",30,\"New York\")\n",
        "grades=(90,85,78,92)\n",
        "is_student=(True, False,True)\n",
        "\n",
        "# Accessing elements of the tuples\n",
        "print(person_info[0])\n",
        "print(grades[2])\n",
        "print(is_student[1])"
      ],
      "metadata": {
        "colab": {
          "base_uri": "https://localhost:8080/"
        },
        "id": "pSWSF78UXora",
        "outputId": "3944890a-7d0c-44a5-fd4f-69c99d5c71da"
      },
      "execution_count": 10,
      "outputs": [
        {
          "output_type": "stream",
          "name": "stdout",
          "text": [
            "Alice\n",
            "78\n",
            "False\n"
          ]
        }
      ]
    },
    {
      "cell_type": "code",
      "source": [
        "# without a trailing comma, it's not recogniszed as a tuple\n",
        "not_a_tuple=(5)\n",
        "print(type(not_a_tuple))\n",
        "\n",
        "# with a trailing comma, it's recognized as a tuple\n",
        "a_tuple=(5,)\n",
        "print(type(a_tuple))"
      ],
      "metadata": {
        "colab": {
          "base_uri": "https://localhost:8080/"
        },
        "id": "Zw26w1hbaTJ8",
        "outputId": "20e489ca-9000-459a-9631-02c9b7941a90"
      },
      "execution_count": 12,
      "outputs": [
        {
          "output_type": "stream",
          "name": "stdout",
          "text": [
            "<class 'int'>\n",
            "<class 'tuple'>\n"
          ]
        }
      ]
    },
    {
      "cell_type": "markdown",
      "source": [
        "### Access Tuple Items"
      ],
      "metadata": {
        "id": "zFtIo8ZFbmRH"
      }
    },
    {
      "cell_type": "code",
      "source": [
        "my_tuple=(\"apple\",\"banana\",\"cherry\",\"date\",\"elderberry\")\n",
        "\n",
        "#Slicing to access a range of items\n",
        "print(my_tuple[1:4])\n",
        "\n",
        "# Slicing with a step\n",
        "print(my_tuple[0::2])"
      ],
      "metadata": {
        "colab": {
          "base_uri": "https://localhost:8080/"
        },
        "id": "Zm8LJMqdbrDz",
        "outputId": "b3472bc2-7ce8-4850-b674-a75d2e75259a"
      },
      "execution_count": 15,
      "outputs": [
        {
          "output_type": "stream",
          "name": "stdout",
          "text": [
            "('banana', 'cherry', 'date')\n",
            "('apple', 'cherry', 'elderberry')\n"
          ]
        }
      ]
    },
    {
      "cell_type": "code",
      "source": [
        "my_tuple=(\"apple\",\"banana\",\"cherry\",\"date\",\"elderberry\")\n",
        "\n",
        "#Accessing items using positive indexing\n",
        "print(my_tuple[0])\n",
        "print(my_tuple[2])\n",
        "\n",
        "\n",
        "#Accessing items using positive indexing\n",
        "print(my_tuple[-1])\n",
        "print(my_tuple[-3])"
      ],
      "metadata": {
        "colab": {
          "base_uri": "https://localhost:8080/"
        },
        "id": "3-damUw3dFj6",
        "outputId": "4eb03bdc-5042-4156-92ca-92bb861c97d2"
      },
      "execution_count": 16,
      "outputs": [
        {
          "output_type": "stream",
          "name": "stdout",
          "text": [
            "apple\n",
            "cherry\n",
            "elderberry\n",
            "cherry\n"
          ]
        }
      ]
    },
    {
      "cell_type": "code",
      "source": [
        "# Exercise Time\n",
        "word_tuple=(\"computer\",\"lamp\",\"book\",\"table\",\"chair\",\"clock\")"
      ],
      "metadata": {
        "id": "7Xk_IUHrexae"
      },
      "execution_count": 18,
      "outputs": []
    },
    {
      "cell_type": "code",
      "source": [
        "print(word_tuple[1:4])\n",
        "print(word_tuple[-5:-2])  #with negative indexing"
      ],
      "metadata": {
        "colab": {
          "base_uri": "https://localhost:8080/"
        },
        "id": "Y3fiw4RrfwnB",
        "outputId": "156ed299-f7d1-46e5-b9a0-777af311fd8b"
      },
      "execution_count": 21,
      "outputs": [
        {
          "output_type": "stream",
          "name": "stdout",
          "text": [
            "('lamp', 'book', 'table')\n",
            "('lamp', 'book', 'table')\n"
          ]
        }
      ]
    },
    {
      "cell_type": "markdown",
      "source": [
        "Check if Item Exists\n"
      ],
      "metadata": {
        "id": "_1jV3ZrhfIaK"
      }
    },
    {
      "cell_type": "code",
      "source": [],
      "metadata": {
        "id": "Kq2L1bCWgD3e"
      },
      "execution_count": null,
      "outputs": []
    },
    {
      "cell_type": "code",
      "source": [
        "thistuple=(\"apple\",\"banana\",\"cherry\")\n",
        "if \"apple\" in thistuple:\n",
        "    print(\"Yes,'apple' is in the fruits tuple\")"
      ],
      "metadata": {
        "colab": {
          "base_uri": "https://localhost:8080/"
        },
        "id": "REUMB2iGfNal",
        "outputId": "4bb4ff49-04f2-47f0-c00f-1e4b16962fc2"
      },
      "execution_count": 17,
      "outputs": [
        {
          "output_type": "stream",
          "name": "stdout",
          "text": [
            "Yes,'apple' is in the fruits tuple\n"
          ]
        }
      ]
    },
    {
      "cell_type": "markdown",
      "source": [
        "# **Python - Update Tuples**\n",
        "Change Tuple Values\n",
        "Once a tuple is created, you cannot change its values. Tuples are unchangeable, or immutable as it also is called. But there is a workaround.\n",
        "You can convert the tuple into a list, change the list, and convert the list back into a tuple.\n"
      ],
      "metadata": {
        "id": "7tVDQ2K5gc4A"
      }
    },
    {
      "cell_type": "code",
      "source": [],
      "metadata": {
        "id": "TVaBMvi9j14R"
      },
      "execution_count": null,
      "outputs": []
    },
    {
      "cell_type": "code",
      "source": [
        "student_names=(\"Aarav\",\"Divya\",\"Gauri\",\"Kiran\",\"Rahul\")\n",
        "student_names[1]=\"Divyashree\"\n",
        "print(student_names)"
      ],
      "metadata": {
        "id": "LM9dE5M4gpwN"
      },
      "execution_count": null,
      "outputs": []
    },
    {
      "cell_type": "code",
      "source": [
        "# Original tuple of student names\n",
        "student_names=(\"Aarav\",\"Divya\",\"Gauri\",\"Kiran\",\"Rahul\")\n",
        "\n",
        "\n",
        "# Convert to a list\n",
        "student_names_list=list(student_names)\n",
        "student_names_list[1]=\"Divyashree\"\n",
        "\n",
        "# Convert the list back to a tuple\n",
        "\n",
        "student_names_updated=tuple(student_names_list)\n",
        "print(student_names_updated)"
      ],
      "metadata": {
        "colab": {
          "base_uri": "https://localhost:8080/"
        },
        "id": "0QWw5qGXhUkp",
        "outputId": "de1cd52f-9a87-487e-9142-dbd235e3e53f"
      },
      "execution_count": 23,
      "outputs": [
        {
          "output_type": "stream",
          "name": "stdout",
          "text": [
            "('Aarav', 'Divyashree', 'Gauri', 'Kiran', 'Rahul')\n"
          ]
        }
      ]
    },
    {
      "cell_type": "markdown",
      "source": [
        "### **Add items to Tuple**"
      ],
      "metadata": {
        "id": "P8V4-sXbkGoE"
      }
    },
    {
      "cell_type": "code",
      "source": [
        "thistuple=(\"Aarav\",\"Divya\",\"Gauri\",\"Kiran\",\"Rahul\")\n",
        "temp=list(thistuple)\n",
        "temp.append(\"Naveen\")\n",
        "thistuple=tuple(temp)\n",
        "\n",
        "print(thistuple)"
      ],
      "metadata": {
        "colab": {
          "base_uri": "https://localhost:8080/"
        },
        "id": "yZgDfPGzkLwh",
        "outputId": "c08f6e77-8f18-4a67-c34a-89d7b8e5a685"
      },
      "execution_count": 24,
      "outputs": [
        {
          "output_type": "stream",
          "name": "stdout",
          "text": [
            "('Aarav', 'Divya', 'Gauri', 'Kiran', 'Rahul', 'Naveen')\n"
          ]
        }
      ]
    },
    {
      "cell_type": "code",
      "source": [
        "thistuple=(\"Aarav\",\"Divya\",\"Gauri\",\"Kiran\",\"Rahul\")\n",
        "temp=(\"Naveen\",)\n",
        "thistuple+=temp\n",
        "\n",
        "print(thistuple)"
      ],
      "metadata": {
        "colab": {
          "base_uri": "https://localhost:8080/"
        },
        "id": "jxPBVzW7ktEx",
        "outputId": "f7e0f1f8-0bfa-4b42-8d78-781699389e09"
      },
      "execution_count": 25,
      "outputs": [
        {
          "output_type": "stream",
          "name": "stdout",
          "text": [
            "('Aarav', 'Divya', 'Gauri', 'Kiran', 'Rahul', 'Naveen')\n"
          ]
        }
      ]
    },
    {
      "cell_type": "markdown",
      "source": [
        "### **Remove Items**"
      ],
      "metadata": {
        "id": "Gv_Utsz3lIme"
      }
    },
    {
      "cell_type": "code",
      "source": [
        "thistuple=(\"Aarav\",\"Divya\",\"Gauri\",\"Kiran\",\"Rahul\",\"Naveen\")\n",
        "y=list(thistuple)\n",
        "y.remove(\"Gauri\")\n",
        "thistuple=tuple(y)\n",
        "\n",
        "print(thistuple)\n"
      ],
      "metadata": {
        "colab": {
          "base_uri": "https://localhost:8080/"
        },
        "id": "zil91d16lPC-",
        "outputId": "d9c33bb0-6bcd-47ca-ceff-08861488859a"
      },
      "execution_count": 26,
      "outputs": [
        {
          "output_type": "stream",
          "name": "stdout",
          "text": [
            "('Aarav', 'Divya', 'Kiran', 'Rahul', 'Naveen')\n"
          ]
        }
      ]
    },
    {
      "cell_type": "code",
      "source": [
        "thistuple=(\"Gauri\",)\n",
        "y=list(thistuple)\n",
        "y.remove(\"Gauri\")\n",
        "thistuple=tuple(y)\n",
        "\n",
        "print(thistuple)"
      ],
      "metadata": {
        "colab": {
          "base_uri": "https://localhost:8080/"
        },
        "id": "Wtzv8OAqnaUQ",
        "outputId": "41b651b7-f68e-4be5-cb0a-ce6857b8b017"
      },
      "execution_count": 29,
      "outputs": [
        {
          "output_type": "stream",
          "name": "stdout",
          "text": [
            "()\n"
          ]
        }
      ]
    },
    {
      "cell_type": "markdown",
      "source": [
        "**Truncate and Drop**\n",
        "\n",
        "1. Truncate: variable would be present but data would be deleted\n",
        "2. Drop: it will delete whole variable means everthing"
      ],
      "metadata": {
        "id": "nz-EPJJgmuDs"
      }
    },
    {
      "cell_type": "code",
      "source": [
        "thistuple=(\"Aarav\",\"Divya\",\"Gauri\",\"Kiran\",\"Rahul\",\"Naveen\")\n",
        "del thistuple\n",
        "#print(thistuple)"
      ],
      "metadata": {
        "id": "E9DsPPQemIx0"
      },
      "execution_count": 28,
      "outputs": []
    },
    {
      "cell_type": "markdown",
      "source": [],
      "metadata": {
        "id": "z0eRH3OFl-aT"
      }
    },
    {
      "cell_type": "markdown",
      "source": [
        "### **Unpacking a Tuple**"
      ],
      "metadata": {
        "id": "sWQObdI7l-_c"
      }
    },
    {
      "cell_type": "code",
      "source": [
        "#packing --grouping\n",
        "items=(\"Chai\",\"Coffee\",\"Boost\")\n",
        "items"
      ],
      "metadata": {
        "id": "3p2JJB4JnuXv"
      },
      "execution_count": null,
      "outputs": []
    },
    {
      "cell_type": "code",
      "source": [
        "#unpacking  -- upgrouping\n",
        " (monday,wednesday, sunday)=items"
      ],
      "metadata": {
        "id": "qc69PBDQn2kp"
      },
      "execution_count": 31,
      "outputs": []
    },
    {
      "cell_type": "code",
      "source": [
        "monday"
      ],
      "metadata": {
        "colab": {
          "base_uri": "https://localhost:8080/",
          "height": 35
        },
        "id": "nMaoVZcxn8VR",
        "outputId": "d3c8c33d-1026-4a13-d2f9-d751f45c1410"
      },
      "execution_count": 32,
      "outputs": [
        {
          "output_type": "execute_result",
          "data": {
            "text/plain": [
              "'Chai'"
            ],
            "application/vnd.google.colaboratory.intrinsic+json": {
              "type": "string"
            }
          },
          "metadata": {},
          "execution_count": 32
        }
      ]
    },
    {
      "cell_type": "code",
      "source": [
        "Students=(\"Aarav\",\"Divya\",\"Gauri\",\"Kiran\",\"Rahul\",\"Naveen\")\n",
        "\n",
        "(Section_A,Section_B,*Section_C)=Students\n",
        "\n",
        "print(Section_A)\n",
        "print(Section_B)\n",
        "print(Section_C)\n",
        "\n",
        "\n",
        "print(type(Section_A))\n",
        "print(type(Section_B))\n",
        "print(type(Section_C))"
      ],
      "metadata": {
        "colab": {
          "base_uri": "https://localhost:8080/"
        },
        "id": "VJY-yETjoDZL",
        "outputId": "2f6ee4ae-8652-4b0c-879f-a37b570f0bac"
      },
      "execution_count": 38,
      "outputs": [
        {
          "output_type": "stream",
          "name": "stdout",
          "text": [
            "Aarav\n",
            "Divya\n",
            "['Gauri', 'Kiran', 'Rahul', 'Naveen']\n",
            "<class 'str'>\n",
            "<class 'str'>\n",
            "<class 'list'>\n"
          ]
        }
      ]
    },
    {
      "cell_type": "code",
      "source": [
        "cord=(10,40)\n",
        "x,y=cord\n",
        "\n",
        "print(x)\n",
        "print(y)"
      ],
      "metadata": {
        "colab": {
          "base_uri": "https://localhost:8080/"
        },
        "id": "MROd1IQApasm",
        "outputId": "7009501a-4f7f-46b4-a028-b59b04f92ad5"
      },
      "execution_count": 34,
      "outputs": [
        {
          "output_type": "stream",
          "name": "stdout",
          "text": [
            "10\n",
            "40\n"
          ]
        }
      ]
    },
    {
      "cell_type": "code",
      "source": [
        "print(type(x))"
      ],
      "metadata": {
        "colab": {
          "base_uri": "https://localhost:8080/"
        },
        "id": "H34WFQrHp8Gi",
        "outputId": "65462a9d-1dcd-4b8f-81b3-99fb6441fa91"
      },
      "execution_count": 35,
      "outputs": [
        {
          "output_type": "stream",
          "name": "stdout",
          "text": [
            "<class 'int'>\n"
          ]
        }
      ]
    },
    {
      "cell_type": "markdown",
      "source": [
        "### **Loop Through a Tuple**"
      ],
      "metadata": {
        "id": "v7HEwaEkqiHM"
      }
    },
    {
      "cell_type": "code",
      "source": [
        "Students=(\"Aarav\",\"Divya\",\"Gauri\",\"Kiran\",\"Rahul\",\"Naveen\")\n",
        "for x in Students:\n",
        "    print(x)"
      ],
      "metadata": {
        "colab": {
          "base_uri": "https://localhost:8080/"
        },
        "id": "1y5LPKSYqpw2",
        "outputId": "9e3d5fda-bfdb-472e-ecf9-99e5ea351f01"
      },
      "execution_count": 44,
      "outputs": [
        {
          "output_type": "stream",
          "name": "stdout",
          "text": [
            "Aarav\n",
            "Divya\n",
            "Gauri\n",
            "Kiran\n",
            "Rahul\n",
            "Naveen\n"
          ]
        }
      ]
    },
    {
      "cell_type": "code",
      "source": [
        "Students=(\"Aarav\",\"Divya\",\"Gauri\",\"Kiran\",\"Rahul\",\"Naveen\")\n",
        "for i in range(len(Students)):\n",
        "    print(Students[i])"
      ],
      "metadata": {
        "colab": {
          "base_uri": "https://localhost:8080/"
        },
        "id": "MWlb9ZTdqzc4",
        "outputId": "1b5fba6f-5bba-414a-9316-b20e419acab6"
      },
      "execution_count": 40,
      "outputs": [
        {
          "output_type": "stream",
          "name": "stdout",
          "text": [
            "Aarav\n",
            "Divya\n",
            "Gauri\n",
            "Kiran\n",
            "Rahul\n",
            "Naveen\n"
          ]
        }
      ]
    },
    {
      "cell_type": "code",
      "source": [
        "Students=(\"Aarav\",\"Divya\",\"Gauri\",\"Kiran\",\"Rahul\",\"Naveen\")\n",
        "\n",
        "i=0\n",
        "while i < len(Students):\n",
        "    print(Students[i])\n",
        "    i=i+1"
      ],
      "metadata": {
        "colab": {
          "base_uri": "https://localhost:8080/"
        },
        "id": "vRDRMNGIrGQ3",
        "outputId": "7b7710c9-34c7-4d15-d55b-426c864e5e38"
      },
      "execution_count": 42,
      "outputs": [
        {
          "output_type": "stream",
          "name": "stdout",
          "text": [
            "Aarav\n",
            "Divya\n",
            "Gauri\n",
            "Kiran\n",
            "Rahul\n",
            "Naveen\n"
          ]
        }
      ]
    },
    {
      "cell_type": "markdown",
      "source": [],
      "metadata": {
        "id": "PxbPCF_0rteK"
      }
    },
    {
      "cell_type": "markdown",
      "source": [
        "### **Join Two Tuples**"
      ],
      "metadata": {
        "id": "6ZkuVgGdrt80"
      }
    },
    {
      "cell_type": "code",
      "source": [
        "tuple1=(\"a\",\"b\",\"c\")\n",
        "tuple2=(1,2,3)\n",
        "tuple3=tuple1+tuple2\n",
        "print(tuple3)\n"
      ],
      "metadata": {
        "colab": {
          "base_uri": "https://localhost:8080/"
        },
        "id": "ClZVgYBprsHR",
        "outputId": "ba6cebf2-a6d9-4cb1-eabb-1329c10c4316"
      },
      "execution_count": 45,
      "outputs": [
        {
          "output_type": "stream",
          "name": "stdout",
          "text": [
            "('a', 'b', 'c', 1, 2, 3)\n"
          ]
        }
      ]
    },
    {
      "cell_type": "code",
      "source": [
        "tuple1=(\"a\",\"b\",\"c\")\n",
        "mytuple=tuple1*3\n",
        "print(mytuple)"
      ],
      "metadata": {
        "colab": {
          "base_uri": "https://localhost:8080/"
        },
        "id": "ecJTz5dHsHCd",
        "outputId": "335b06fc-06bb-4086-e1c3-6ea44f483f70"
      },
      "execution_count": 46,
      "outputs": [
        {
          "output_type": "stream",
          "name": "stdout",
          "text": [
            "('a', 'b', 'c', 'a', 'b', 'c', 'a', 'b', 'c')\n"
          ]
        }
      ]
    },
    {
      "cell_type": "code",
      "source": [
        "mytuple.count('a')"
      ],
      "metadata": {
        "colab": {
          "base_uri": "https://localhost:8080/"
        },
        "id": "PXCk9PvTsSUz",
        "outputId": "d750b083-ffe2-4ca4-91e2-b643f02226f8"
      },
      "execution_count": 47,
      "outputs": [
        {
          "output_type": "execute_result",
          "data": {
            "text/plain": [
              "3"
            ]
          },
          "metadata": {},
          "execution_count": 47
        }
      ]
    },
    {
      "cell_type": "code",
      "source": [
        "mytuple.index('c')"
      ],
      "metadata": {
        "colab": {
          "base_uri": "https://localhost:8080/"
        },
        "id": "uyYs2wwnsXok",
        "outputId": "58cdc66a-f162-43eb-b068-72997248d941"
      },
      "execution_count": 48,
      "outputs": [
        {
          "output_type": "execute_result",
          "data": {
            "text/plain": [
              "2"
            ]
          },
          "metadata": {},
          "execution_count": 48
        }
      ]
    }
  ]
}
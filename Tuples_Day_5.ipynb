{
  "nbformat": 4,
  "nbformat_minor": 0,
  "metadata": {
    "colab": {
      "provenance": [],
      "authorship_tag": "ABX9TyNOWONZnYPbyvXq4VATfo7g",
      "include_colab_link": true
    },
    "kernelspec": {
      "name": "python3",
      "display_name": "Python 3"
    },
    "language_info": {
      "name": "python"
    }
  },
  "cells": [
    {
      "cell_type": "markdown",
      "metadata": {
        "id": "view-in-github",
        "colab_type": "text"
      },
      "source": [
        "<a href=\"https://colab.research.google.com/github/nvnrai8/trinity.github.io/blob/main/Tuples_Day_5.ipynb\" target=\"_parent\"><img src=\"https://colab.research.google.com/assets/colab-badge.svg\" alt=\"Open In Colab\"/></a>"
      ]
    },
    {
      "cell_type": "code",
      "execution_count": 3,
      "metadata": {
        "id": "uhZejoIt0xSL",
        "colab": {
          "base_uri": "https://localhost:8080/"
        },
        "outputId": "368e28a2-0421-4e3d-f24b-d8151a262110"
      },
      "outputs": [
        {
          "output_type": "execute_result",
          "data": {
            "text/plain": [
              "(1, 2, 3, 'apple', 'banana')"
            ]
          },
          "metadata": {},
          "execution_count": 3
        }
      ],
      "source": [
        "my_tuple=(1,2,3,'apple','banana')\n",
        "my_tuple"
      ]
    },
    {
      "cell_type": "code",
      "source": [
        "# Allow duplicates\n",
        "# Since tuples are indexed, they can have items with the same value:\n",
        "# here my_tuple is redefined not reassigned"
      ],
      "metadata": {
        "id": "y6VUVzGM5sxF"
      },
      "execution_count": null,
      "outputs": []
    },
    {
      "cell_type": "code",
      "source": [
        "my_tuple=(1,2,3,'apple','banana','apple','banana')\n",
        "my_tuple"
      ],
      "metadata": {
        "colab": {
          "base_uri": "https://localhost:8080/"
        },
        "id": "PvEAGyMt553n",
        "outputId": "de2162dd-c127-43de-e62d-bab2597412dd"
      },
      "execution_count": 6,
      "outputs": [
        {
          "output_type": "execute_result",
          "data": {
            "text/plain": [
              "(1, 2, 3, 'apple', 'banana', 'apple', 'banana')"
            ]
          },
          "metadata": {},
          "execution_count": 6
        }
      ]
    },
    {
      "cell_type": "code",
      "source": [
        "# Tuple Length and type:\n",
        "print(len(my_tuple))\n",
        "print(type(my_tuple))"
      ],
      "metadata": {
        "colab": {
          "base_uri": "https://localhost:8080/"
        },
        "id": "BCTBAYHi_cR3",
        "outputId": "e4ac8833-ef50-4789-a58a-de20b2d25d62"
      },
      "execution_count": 9,
      "outputs": [
        {
          "output_type": "stream",
          "name": "stdout",
          "text": [
            "7\n",
            "<class 'tuple'>\n"
          ]
        }
      ]
    },
    {
      "cell_type": "code",
      "source": [
        "#  Tuple Items - Data Types\n",
        "\n",
        "# Creating tuples with different type of elements\n",
        "person_info=(\"Alice\",30,\"New York\")\n",
        "grades=(90,85,78,92)\n",
        "is_student=(True, False,True)\n",
        "\n",
        "# Accessing elements of the tuples\n",
        "print(person_info[0])\n",
        "print(grades[2])\n",
        "print(is_student[1])"
      ],
      "metadata": {
        "colab": {
          "base_uri": "https://localhost:8080/"
        },
        "id": "pSWSF78UXora",
        "outputId": "3944890a-7d0c-44a5-fd4f-69c99d5c71da"
      },
      "execution_count": 10,
      "outputs": [
        {
          "output_type": "stream",
          "name": "stdout",
          "text": [
            "Alice\n",
            "78\n",
            "False\n"
          ]
        }
      ]
    },
    {
      "cell_type": "code",
      "source": [
        "# without a trailing comma, it's not recogniszed as a tuple\n",
        "not_a_tuple=(5)\n",
        "print(type(not_a_tuple))\n",
        "\n",
        "# with a trailing comma, it's recognized as a tuple\n",
        "a_tuple=(5,)\n",
        "print(type(a_tuple))"
      ],
      "metadata": {
        "colab": {
          "base_uri": "https://localhost:8080/"
        },
        "id": "Zw26w1hbaTJ8",
        "outputId": "20e489ca-9000-459a-9631-02c9b7941a90"
      },
      "execution_count": 12,
      "outputs": [
        {
          "output_type": "stream",
          "name": "stdout",
          "text": [
            "<class 'int'>\n",
            "<class 'tuple'>\n"
          ]
        }
      ]
    },
    {
      "cell_type": "markdown",
      "source": [
        "### Access Tuple Items"
      ],
      "metadata": {
        "id": "zFtIo8ZFbmRH"
      }
    },
    {
      "cell_type": "code",
      "source": [
        "my_tuple=(\"apple\",\"banana\",\"cherry\",\"date\",\"elderberry\")\n",
        "\n",
        "#Slicing to access a range of items\n",
        "print(my_tuple[1:4])\n",
        "\n",
        "# Slicing with a step\n",
        "print(my_tuple[0::2])"
      ],
      "metadata": {
        "colab": {
          "base_uri": "https://localhost:8080/"
        },
        "id": "Zm8LJMqdbrDz",
        "outputId": "b3472bc2-7ce8-4850-b674-a75d2e75259a"
      },
      "execution_count": 15,
      "outputs": [
        {
          "output_type": "stream",
          "name": "stdout",
          "text": [
            "('banana', 'cherry', 'date')\n",
            "('apple', 'cherry', 'elderberry')\n"
          ]
        }
      ]
    },
    {
      "cell_type": "code",
      "source": [
        "my_tuple=(\"apple\",\"banana\",\"cherry\",\"date\",\"elderberry\")\n",
        "\n",
        "#Accessing items using positive indexing\n",
        "print(my_tuple[0])\n",
        "print(my_tuple[2])\n",
        "\n",
        "\n",
        "#Accessing items using positive indexing\n",
        "print(my_tuple[-1])\n",
        "print(my_tuple[-3])"
      ],
      "metadata": {
        "colab": {
          "base_uri": "https://localhost:8080/"
        },
        "id": "3-damUw3dFj6",
        "outputId": "4eb03bdc-5042-4156-92ca-92bb861c97d2"
      },
      "execution_count": 16,
      "outputs": [
        {
          "output_type": "stream",
          "name": "stdout",
          "text": [
            "apple\n",
            "cherry\n",
            "elderberry\n",
            "cherry\n"
          ]
        }
      ]
    },
    {
      "cell_type": "code",
      "source": [
        "# Exercise Time\n",
        "word_tuple=(\"computer\",\"lamp\",\"book\",\"table\",\"chair\",\"clock\")"
      ],
      "metadata": {
        "id": "7Xk_IUHrexae"
      },
      "execution_count": 18,
      "outputs": []
    },
    {
      "cell_type": "code",
      "source": [
        "print(word_tuple[1:4])\n",
        "print(word_tuple[-5:-2])  #with negative indexing"
      ],
      "metadata": {
        "colab": {
          "base_uri": "https://localhost:8080/"
        },
        "id": "Y3fiw4RrfwnB",
        "outputId": "156ed299-f7d1-46e5-b9a0-777af311fd8b"
      },
      "execution_count": 21,
      "outputs": [
        {
          "output_type": "stream",
          "name": "stdout",
          "text": [
            "('lamp', 'book', 'table')\n",
            "('lamp', 'book', 'table')\n"
          ]
        }
      ]
    },
    {
      "cell_type": "markdown",
      "source": [
        "Check if Item Exists\n"
      ],
      "metadata": {
        "id": "_1jV3ZrhfIaK"
      }
    },
    {
      "cell_type": "code",
      "source": [],
      "metadata": {
        "id": "Kq2L1bCWgD3e"
      },
      "execution_count": null,
      "outputs": []
    },
    {
      "cell_type": "code",
      "source": [
        "thistuple=(\"apple\",\"banana\",\"cherry\")\n",
        "if \"apple\" in thistuple:\n",
        "    print(\"Yes,'apple' is in the fruits tuple\")"
      ],
      "metadata": {
        "colab": {
          "base_uri": "https://localhost:8080/"
        },
        "id": "REUMB2iGfNal",
        "outputId": "4bb4ff49-04f2-47f0-c00f-1e4b16962fc2"
      },
      "execution_count": 17,
      "outputs": [
        {
          "output_type": "stream",
          "name": "stdout",
          "text": [
            "Yes,'apple' is in the fruits tuple\n"
          ]
        }
      ]
    },
    {
      "cell_type": "markdown",
      "source": [
        "# **Python - Update Tuples**\n",
        "Change Tuple Values\n",
        "Once a tuple is created, you cannot change its values. Tuples are unchangeable, or immutable as it also is called. But there is a workaround.\n",
        "You can convert the tuple into a list, change the list, and convert the list back into a tuple.\n"
      ],
      "metadata": {
        "id": "7tVDQ2K5gc4A"
      }
    },
    {
      "cell_type": "code",
      "source": [
        "student_names=(\"Aarav\",\"Divya\",\"Gauri\",\"Kiran\",\"Rahul\")\n",
        "student_names[1]=\"Divyashree\"\n",
        "print(student_names)"
      ],
      "metadata": {
        "id": "LM9dE5M4gpwN"
      },
      "execution_count": null,
      "outputs": []
    },
    {
      "cell_type": "code",
      "source": [
        "# Original tuple of student names\n",
        "student_names=(\"Aarav\",\"Divya\",\"Gauri\",\"Kiran\",\"Rahul\")\n",
        "\n",
        "\n",
        "# Convert to a list\n",
        "student_names_list=list(student_names)\n",
        "student_names_list[1]=\"Divyashree\"\n",
        "\n",
        "# Convert the list back to a tuple\n",
        "\n",
        "student_names_updated=tuple(student_names_list)\n",
        "print(student_names_updated)"
      ],
      "metadata": {
        "colab": {
          "base_uri": "https://localhost:8080/"
        },
        "id": "0QWw5qGXhUkp",
        "outputId": "de1cd52f-9a87-487e-9142-dbd235e3e53f"
      },
      "execution_count": 23,
      "outputs": [
        {
          "output_type": "stream",
          "name": "stdout",
          "text": [
            "('Aarav', 'Divyashree', 'Gauri', 'Kiran', 'Rahul')\n"
          ]
        }
      ]
    }
  ]
}